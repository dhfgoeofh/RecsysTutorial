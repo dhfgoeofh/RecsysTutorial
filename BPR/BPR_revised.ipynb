{
  "cells": [
    {
      "cell_type": "markdown",
      "metadata": {
        "colab_type": "text",
        "id": "view-in-github"
      },
      "source": [
        "<a href=\"https://colab.research.google.com/github/SeongBeomLEE/RecsysTutorial/blob/main/BPR/BPR.ipynb\" target=\"_parent\"><img src=\"https://colab.research.google.com/assets/colab-badge.svg\" alt=\"Open In Colab\"/></a>"
      ]
    },
    {
      "cell_type": "markdown",
      "metadata": {
        "id": "qC4xR-8b9V3V"
      },
      "source": [
        "- GMF를 가지고 비교\n",
        "- 메트릭은 NDCG, HIT 사용\n",
        "- 동일한 Weigh, 배치마다 동일한 데이터셋으로 비교"
      ]
    },
    {
      "cell_type": "code",
      "execution_count": 193,
      "metadata": {
        "id": "dU4Rk5s_-sJV"
      },
      "outputs": [],
      "source": [
        "# !pip install python-box"
      ]
    },
    {
      "cell_type": "code",
      "execution_count": 194,
      "metadata": {
        "id": "7SbA1rBV8dMW"
      },
      "outputs": [],
      "source": [
        "import random\n",
        "import numpy as np\n",
        "import pandas as pd\n",
        "\n",
        "import torch\n",
        "import torch.nn as nn\n",
        "import torch.nn.functional as F\n",
        "\n",
        "import warnings\n",
        "from tqdm import tqdm\n",
        "\n",
        "from box import Box\n",
        "\n",
        "warnings.filterwarnings(action='ignore')\n",
        "\n",
        "data_dir = '../Data/MovieLens/'\n",
        "model_dir = '../Model/'"
      ]
    },
    {
      "cell_type": "code",
      "execution_count": 195,
      "metadata": {
        "id": "G6mDY5ic8S-_"
      },
      "outputs": [
        {
          "data": {
            "text/plain": [
              "<torch._C.Generator at 0x20cb3f887d0>"
            ]
          },
          "execution_count": 195,
          "metadata": {},
          "output_type": "execute_result"
        }
      ],
      "source": [
        "seed = 22\n",
        "random.seed(seed)\n",
        "np.random.seed(seed)\n",
        "torch.manual_seed(seed)"
      ]
    },
    {
      "cell_type": "markdown",
      "metadata": {
        "id": "tj9zZZquHqKK"
      },
      "source": [
        "# 학습 설정"
      ]
    },
    {
      "cell_type": "code",
      "execution_count": 196,
      "metadata": {
        "id": "Ts-KDn8V8r-k"
      },
      "outputs": [],
      "source": [
        "config = {\n",
        "    'top_k' : 10,\n",
        "    'epochs' : 50,\n",
        "    'lr' : 1e-03,\n",
        "    'batch_size' : 256,\n",
        "\n",
        "    'num_factor' :64,\n",
        "    \"reg\" : 1e-5,\n",
        "    'neg_samples' : 3,\n",
        "}\n",
        "\n",
        "config = Box(config)\n",
        "\n",
        "device = torch.device('cuda') if torch.cuda.is_available() else torch.device('cpu')"
      ]
    },
    {
      "cell_type": "markdown",
      "metadata": {
        "id": "DcHWD3OVHsyw"
      },
      "source": [
        "# 데이터셋"
      ]
    },
    {
      "cell_type": "code",
      "execution_count": 197,
      "metadata": {
        "id": "Ldv0nAnn-h-L"
      },
      "outputs": [],
      "source": [
        "class MakeDataset():\n",
        "    def __init__(self, config, df : pd.DataFrame):\n",
        "        self.config = config\n",
        "        self.df = df\n",
        "        self.user_encoder, self.user_decoder, self.item_encoder, self.item_decoder = self.get_encoder_decoder()\n",
        "        self.num_users = len(self.user_encoder)\n",
        "        self.num_items = len(self.item_encoder)\n",
        "        self.all_items = [i for i in range(self.num_items)]\n",
        "\n",
        "        self.df['userId'] = self.df['userId'].apply(lambda x : self.user_encoder[x])\n",
        "        self.df['movieId'] = self.df['movieId'].apply(lambda x : self.item_encoder[x])\n",
        "        self.user_neg_candidate = self.get_user_neg_candidate()\n",
        "\n",
        "        self.train_set_user, self.train_set_item, self.train_set_target, self.test_set_user, self.test_set_item, self.test_set_target = self.train_test_data_split()\n",
        "\n",
        "    def train_test_data_split(self):\n",
        "\n",
        "        user_id_li = self.df['userId'].unique()\n",
        "\n",
        "        train_set_item = []\n",
        "        train_set_user = []\n",
        "        train_set_target = []\n",
        "\n",
        "        test_set_item = []\n",
        "        test_set_user = []\n",
        "        test_set_target = []\n",
        "\n",
        "        for user_id in user_id_li:\n",
        "            user_df = self.df[self.df['userId'] == user_id].sort_values('timestamp')\n",
        "            movieId_li = user_df['movieId'].tolist()\n",
        "            \n",
        "            train_item = movieId_li[:-1]\n",
        "            train_user = [user_id] * len(train_item)\n",
        "            train_target = [1] * len(train_item)\n",
        "\n",
        "            test_item = [movieId_li[-1]] + np.random.choice(self.user_neg_candidate[user_id], 99, replace = False).tolist()\n",
        "            test_user = [user_id] * len(test_item)\n",
        "            test_target = [1] + [0] * (len(test_item) - 1)\n",
        "\n",
        "            train_set_item += train_item\n",
        "            train_set_user += train_user\n",
        "            train_set_target += train_target\n",
        "\n",
        "            test_set_item += test_item\n",
        "            test_set_user += test_user\n",
        "            test_set_target += test_target\n",
        "\n",
        "        return train_set_user, train_set_item, train_set_target, test_set_user, test_set_item, test_set_target\n",
        "\n",
        "    def get_neg_samples(self, n : int, user_id_li):\n",
        "        neg_samples_user = []\n",
        "        neg_samples_item = []\n",
        "        for u in user_id_li:\n",
        "            u_neg_candidate = self.user_neg_candidate[u]\n",
        "            for _ in range(n):\n",
        "                neg_samples_item.append(u_neg_candidate[np.random.randint(len(u_neg_candidate))])\n",
        "                neg_samples_user.append(u)\n",
        "\n",
        "        return neg_samples_user, neg_samples_item\n",
        "\n",
        "    def get_user_neg_candidate(self):\n",
        "        user_candidate = {}\n",
        "        for user_id in self.df['userId'].unique():\n",
        "            movieId_li = self.df[self.df['userId'] == user_id]['movieId'].tolist()\n",
        "            movieId_li = [movieId for movieId in movieId_li]\n",
        "            user_candidate[user_id] = list(set(self.all_items) - set(movieId_li))\n",
        "        \n",
        "        return user_candidate\n",
        "\n",
        "    def get_encoder_decoder(self):\n",
        "        user_encoder, user_decoder = {}, {}\n",
        "        for idx, user_id in enumerate(self.df['userId'].unique()):\n",
        "            user_encoder[user_id] = idx\n",
        "            user_decoder[idx] = user_id\n",
        "\n",
        "        item_encoder, item_decoder = {}, {}\n",
        "        for idx, item_id in enumerate(self.df['movieId'].unique()):\n",
        "            item_encoder[item_id] = idx\n",
        "            item_decoder[idx] = item_id\n",
        "        \n",
        "        return user_encoder, user_decoder, item_encoder, item_decoder\n",
        "    \n",
        "    def get_data(self, train : bool = True):\n",
        "        if train: return self.train_set_user, self.train_set_item, self.train_set_target\n",
        "        else: return self.test_set_user, self.test_set_item, self.test_set_target"
      ]
    },
    {
      "cell_type": "code",
      "execution_count": 198,
      "metadata": {
        "id": "W-9e--KXHMhb"
      },
      "outputs": [],
      "source": [
        "from torch.utils.data import Dataset\n",
        "from torch.utils.data import DataLoader\n",
        "\n",
        "class CustomDataset(Dataset):\n",
        "    def __init__(self, set_user : list, set_item : list, set_target : list):\n",
        "        self.set_user = set_user\n",
        "        self.set_item = set_item\n",
        "        self.set_target = set_target\n",
        "\n",
        "    def __len__(self):\n",
        "        return len(self.set_user)\n",
        "\n",
        "    def __getitem__(self, idx):\n",
        "        user = self.set_user[idx]\n",
        "        item = self.set_item[idx]\n",
        "        target = self.set_target[idx]\n",
        "\n",
        "        return user, item, target"
      ]
    },
    {
      "cell_type": "markdown",
      "metadata": {
        "id": "o-bgIRfmHy6O"
      },
      "source": [
        "# 모델"
      ]
    },
    {
      "cell_type": "code",
      "execution_count": 199,
      "metadata": {
        "id": "mJzXQp1aHzk7"
      },
      "outputs": [],
      "source": [
        "class GMF(nn.Module):\n",
        "    def __init__(self, num_user, num_item, num_factor):\n",
        "        super(GMF, self).__init__()\n",
        "        self.user_emb = nn.Embedding(num_user, num_factor)\n",
        "        self.item_emb = nn.Embedding(num_item, num_factor)\n",
        "        \n",
        "        self.predict_layer = nn.Sequential(\n",
        "            nn.Linear(num_factor, 1, bias = False)\n",
        "        )\n",
        "\n",
        "        self._init_weight_()\n",
        "    \n",
        "    def _init_weight_(self):\n",
        "        nn.init.normal_(self.user_emb.weight, std=0.01)\n",
        "        nn.init.normal_(self.item_emb.weight, std=0.01)\n",
        "        for m in self.predict_layer:\n",
        "            if isinstance(m, nn.Linear):\n",
        "                nn.init.kaiming_uniform_(m.weight, a=1, nonlinearity=\"sigmoid\")\n",
        "    \n",
        "    def forward(self, user, item):\n",
        "        user_emb = self.user_emb(user)\n",
        "        item_emb = self.item_emb(item)\n",
        "        \n",
        "        output = self.predict_layer(user_emb * item_emb)\n",
        "\n",
        "        return output.view(-1)"
      ]
    },
    {
      "cell_type": "code",
      "execution_count": 200,
      "metadata": {},
      "outputs": [],
      "source": [
        "# # 수정 버전\n",
        "# class GMF(nn.Module):\n",
        "#     def __init__(self, num_user, num_item, num_factor):\n",
        "#         super(GMF, self).__init__()\n",
        "#         self.user_emb = nn.Embedding(num_user, 4*num_factor)\n",
        "#         self.item_emb = nn.Embedding(num_item, num_factor)\n",
        "\n",
        "#         self.fn_layer = nn.Sequential(\n",
        "#             nn.Linear(5*num_factor, num_factor, bias=False)\n",
        "#         )\n",
        "\n",
        "#         self.predict_layer = nn.Sequential(\n",
        "#             nn.Linear(num_factor, 1, bias = False)\n",
        "#         )\n",
        "\n",
        "#         self._init_weight_()\n",
        "    \n",
        "#     def _init_weight_(self):\n",
        "#         nn.init.normal_(self.user_emb.weight, std=0.01)\n",
        "#         nn.init.normal_(self.item_emb.weight, std=0.01)\n",
        "#         for m in self.predict_layer:\n",
        "#             if isinstance(m, nn.Linear):\n",
        "#                 nn.init.kaiming_uniform_(m.weight, a=1, nonlinearity=\"sigmoid\")\n",
        "    \n",
        "#     def forward(self, user, item):\n",
        "#         user_emb = self.user_emb(user)\n",
        "#         item_emb = self.item_emb(item)\n",
        "#         # print('total user emb:', self.user_emb)\n",
        "#         # print('total item emb:', self.item_emb)\n",
        "\n",
        "#         # print('user emb:', user_emb.shape)\n",
        "#         # print('item emb:', item_emb.shape)\n",
        "        \n",
        "#         # p_u' 계산\n",
        "#         concatenated_emb = torch.concatenate([user_emb, item_emb], dim=1)\n",
        "#         mutual_user_emb = self.fn_layer(concatenated_emb)\n",
        "\n",
        "#         output = self.predict_layer(mutual_user_emb * item_emb)\n",
        "\n",
        "#         return output.view(-1)"
      ]
    },
    {
      "cell_type": "markdown",
      "metadata": {
        "id": "kNYhN5yRIjB5"
      },
      "source": [
        "# 학습 함수"
      ]
    },
    {
      "cell_type": "code",
      "execution_count": 201,
      "metadata": {
        "id": "HMlxwn8xIkr5"
      },
      "outputs": [],
      "source": [
        "def hit(target_item, pred_items):\n",
        "    if target_item in pred_items:\n",
        "        return 1\n",
        "    return 0\n",
        "\n",
        "def ndcg(target_item, pred_items):\n",
        "    if target_item in pred_items:\n",
        "        idx = pred_items.index(target_item)\n",
        "        # 초기 인덱스가 0이기 때문에 +2 함\n",
        "        return np.reciprocal(np.log2(idx + 2))\n",
        "    return 0\n",
        "\n",
        "def metrics(model, test_loader, top_k):\n",
        "    model.eval()\n",
        "    HR, NDCG = [], []\n",
        "    with torch.no_grad():\n",
        "        for user, item, _ in test_loader:\n",
        "            user = user.to(device)\n",
        "            item = item.to(device)\n",
        "\n",
        "            predictions = model(user, item)\n",
        "            # 가장 높은 top_k개 선택\n",
        "            _, indices = torch.topk(predictions, top_k)\n",
        "            # 해당 상품 index 선택\n",
        "            recommends = torch.take(item, indices).cpu().numpy().tolist()\n",
        "            # 정답값 선택\n",
        "            target_item = item[0].item()\n",
        "            HR.append(hit(target_item, recommends))\n",
        "            NDCG.append(ndcg(target_item, recommends))\n",
        "\n",
        "    return np.mean(HR), np.mean(NDCG)"
      ]
    },
    {
      "cell_type": "code",
      "execution_count": 202,
      "metadata": {
        "id": "F3PKzgFAOxll"
      },
      "outputs": [],
      "source": [
        "class BPR_Loss(nn.Module):\n",
        "    def __init__(self):\n",
        "        super(BPR_Loss, self).__init__()\n",
        "    \n",
        "    def forward(self, pos, neg):\n",
        "        bpr_loss = -torch.mean(torch.log(torch.sigmoid(pos - neg)))\n",
        "        return bpr_loss"
      ]
    },
    {
      "cell_type": "markdown",
      "metadata": {
        "id": "jXt5O3vgIgqc"
      },
      "source": [
        "# 학습"
      ]
    },
    {
      "cell_type": "code",
      "execution_count": 203,
      "metadata": {
        "id": "nmChH4jvIJoj"
      },
      "outputs": [],
      "source": [
        "ratings_df = pd.read_csv(data_dir + 'ratings.csv')\n",
        "\n",
        "dataset = MakeDataset(config = config, df = ratings_df)\n",
        "\n",
        "train_set_user, train_set_item, train_set_target = dataset.get_data(train = True)\n",
        "train_dataset = CustomDataset(set_user = train_set_user, set_item = train_set_item, set_target = train_set_target)\n",
        "train_loader = DataLoader(train_dataset, batch_size = config.batch_size, shuffle = True, drop_last = False)\n",
        "\n",
        "test_set_user, test_set_item, test_set_target = dataset.get_data(train = False)\n",
        "test_dataset = CustomDataset(set_user = test_set_user, set_item = test_set_item, set_target = test_set_target)\n",
        "test_loader = DataLoader(test_dataset, batch_size = 100, shuffle = False, drop_last = False)"
      ]
    },
    {
      "cell_type": "code",
      "execution_count": 204,
      "metadata": {
        "colab": {
          "base_uri": "https://localhost:8080/"
        },
        "id": "3qMDn76jSDDL",
        "outputId": "2c9d3463-b59d-468e-b2ef-4b31da994780"
      },
      "outputs": [
        {
          "name": "stdout",
          "output_type": "stream",
          "text": [
            "[EPOCH: 50]\n",
            "Non-BPR-GMF Train Loss: 0.0237, HR: 0.7049, NDCG: 0.4754\n",
            "BPR-GMF Train Loss: 0.0072, HR: 0.7213, NDCG: 0.4724\n",
            "\n"
          ]
        }
      ],
      "source": [
        "import copy\n",
        "# 동일한 Weigh에서 초기화 시키기 위해서 copy 사용\n",
        "\n",
        "gmf = GMF(num_user = dataset.num_users, num_item = dataset.num_items, num_factor = config.num_factor)\n",
        "model = copy.deepcopy(gmf).to(device)\n",
        "optimizer = torch.optim.Adam(model.parameters(), lr = config.lr)\n",
        "loss_func = nn.BCELoss()\n",
        "\n",
        "bpr_model = copy.deepcopy(gmf).to(device)\n",
        "bpr_optimizer = torch.optim.Adam(bpr_model.parameters(), lr = config.lr)\n",
        "bpr_loss_func = BPR_Loss()\n",
        "\n",
        "non_bpr_model_loss_list = []\n",
        "non_bpr_model_hr_list = []\n",
        "non_bpr_model_ndcg_list = []\n",
        "\n",
        "bpr_model_loss_list = []\n",
        "bpr_model_hr_list = []\n",
        "bpr_model_ndcg_list = []\n",
        "\n",
        "result_hr_list = []\n",
        "result_ndcg_list = []\n",
        "\n",
        "result_non_bpr_hr_list = []\n",
        "result_non_bpr_ndcg_list = []\n",
        "\n",
        "best_metric = 0\n",
        "bpr_best_metric = 0\n",
        "\n",
        "for epoch in range(1, config.epochs + 1):\n",
        "    # 학습\n",
        "    model.train()\n",
        "    bpr_model.train()\n",
        "\n",
        "    train_loss = 0\n",
        "    bpr_train_loss = 0\n",
        "\n",
        "    for user, item, target in train_loader:\n",
        "        # neg_sampling\n",
        "        neg_user, neg_item = dataset.get_neg_samples(n = config.neg_samples, user_id_li = user.numpy().tolist())\n",
        "        neg_target = [0] * len(neg_item)\n",
        "\n",
        "        user, item, target = user.to(device), item.to(device), target.to(device).float()\n",
        "        neg_user, neg_item, neg_target = torch.tensor(neg_user).to(device), torch.tensor(neg_item).to(device), torch.tensor(neg_target).to(device).float()\n",
        "\n",
        "        all_user = torch.concat([user, torch.tensor(neg_user)])\n",
        "        all_item = torch.concat([item, torch.tensor(neg_item)])\n",
        "        all_target = torch.concat([target, torch.tensor(neg_target)])\n",
        "\n",
        "        # BPR X 모델 학습\n",
        "        optimizer.zero_grad()\n",
        "        output = model(all_user, all_item)\n",
        "        loss = loss_func(torch.sigmoid(output), all_target)\n",
        "\n",
        "        loss.backward()\n",
        "        optimizer.step()\n",
        "\n",
        "        train_loss += loss.item()\n",
        "        \n",
        "        # BPR O 모델 학습\n",
        "        bpr_optimizer.zero_grad()\n",
        "        output = bpr_model(all_user, all_item)\n",
        "        pos_output, neg_output = torch.split(output, [len(user), len(neg_user)])\n",
        "        pos_output = torch.concat([pos_output.view(-1, 1) for _ in range(config.neg_samples)], dim = 1).view(-1)\n",
        "        loss = bpr_loss_func(pos_output, neg_output)\n",
        "\n",
        "        loss.backward()\n",
        "        bpr_optimizer.step()\n",
        "\n",
        "        bpr_train_loss += loss.item()\n",
        "\n",
        "    train_loss /= len(train_loader)\n",
        "    bpr_train_loss /= len(train_loader)\n",
        "\n",
        "    # 평가\n",
        "    non_bpr_model_hr, non_bpr_model_ndcg = metrics(model = model, test_loader = test_loader, top_k = config.top_k)\n",
        "    bpr_model_hr, bpr_model_ndcg = metrics(model = bpr_model, test_loader = test_loader, top_k = config.top_k)\n",
        "\n",
        "    if epoch == 50:\n",
        "        print(f\"[EPOCH: {epoch}]\")\n",
        "        print(f\"Non-BPR-GMF Train Loss: {train_loss:.4f}, HR: {non_bpr_model_hr:.4f}, NDCG: {non_bpr_model_ndcg:.4f}\")\n",
        "        print(f\"BPR-GMF Train Loss: {bpr_train_loss:.4f}, HR: {bpr_model_hr:.4f}, NDCG: {bpr_model_ndcg:.4f}\\n\")\n",
        "\n",
        "    result_non_bpr_hr_list.append(non_bpr_model_hr)\n",
        "    result_non_bpr_ndcg_list.append(non_bpr_model_ndcg)\n",
        "    result_hr_list.append(bpr_model_hr)\n",
        "    result_ndcg_list.append(bpr_model_ndcg)\n",
        "\n",
        "    if best_metric < non_bpr_model_hr:\n",
        "        best_metric = non_bpr_model_hr\n",
        "        torch.save(model.state_dict(), model_dir + f'Non-BPR-GMF.pt')\n",
        "\n",
        "    if bpr_best_metric < bpr_model_ndcg:\n",
        "        bpr_best_metric = bpr_model_ndcg\n",
        "        torch.save(bpr_model.state_dict(), model_dir + f'BPR-GMF.pt')"
      ]
    },
    {
      "cell_type": "markdown",
      "metadata": {},
      "source": [
        "# 10회 평균 계산"
      ]
    },
    {
      "cell_type": "code",
      "execution_count": 205,
      "metadata": {},
      "outputs": [
        {
          "name": "stdout",
          "output_type": "stream",
          "text": [
            "Default BPR\n",
            "HR: 0.6985692995529058\n",
            "NDCG: 0.447542335168063\n",
            "nonBPR HR: 0.6935022354694486\n",
            "onBPR NDCG: 0.44526940976394974\n"
          ]
        }
      ],
      "source": [
        "print('Default BPR')\n",
        "print('HR:',sum(result_hr_list) / len(result_hr_list))\n",
        "print('NDCG:',sum(result_ndcg_list) / len(result_ndcg_list))\n",
        "\n",
        "print('nonBPR HR:',sum(result_non_bpr_hr_list) / len(result_non_bpr_hr_list))\n",
        "print('onBPR NDCG:',sum(result_non_bpr_ndcg_list) / len(result_non_bpr_ndcg_list))"
      ]
    },
    {
      "cell_type": "code",
      "execution_count": 206,
      "metadata": {
        "colab": {
          "base_uri": "https://localhost:8080/",
          "height": 336
        },
        "id": "Z4xvxka9Zcgd",
        "outputId": "6ccc5517-fe5e-473a-e411-ad3add28e605"
      },
      "outputs": [
        {
          "ename": "ValueError",
          "evalue": "x and y must have same first dimension, but have shapes (50,) and (0,)",
          "output_type": "error",
          "traceback": [
            "\u001b[1;31m---------------------------------------------------------------------------\u001b[0m",
            "\u001b[1;31mValueError\u001b[0m                                Traceback (most recent call last)",
            "Cell \u001b[1;32mIn[206], line 7\u001b[0m\n\u001b[0;32m      4\u001b[0m ax \u001b[38;5;241m=\u001b[39m ax\u001b[38;5;241m.\u001b[39mflatten()\n\u001b[0;32m      5\u001b[0m epochs \u001b[38;5;241m=\u001b[39m [i \u001b[38;5;28;01mfor\u001b[39;00m i \u001b[38;5;129;01min\u001b[39;00m \u001b[38;5;28mrange\u001b[39m(\u001b[38;5;241m1\u001b[39m, config\u001b[38;5;241m.\u001b[39mepochs \u001b[38;5;241m+\u001b[39m \u001b[38;5;241m1\u001b[39m)]\n\u001b[1;32m----> 7\u001b[0m \u001b[43max\u001b[49m\u001b[43m[\u001b[49m\u001b[38;5;241;43m0\u001b[39;49m\u001b[43m]\u001b[49m\u001b[38;5;241;43m.\u001b[39;49m\u001b[43mplot\u001b[49m\u001b[43m(\u001b[49m\u001b[43mepochs\u001b[49m\u001b[43m,\u001b[49m\u001b[43m \u001b[49m\u001b[43mbpr_model_loss_list\u001b[49m\u001b[43m,\u001b[49m\u001b[43m \u001b[49m\u001b[43mlabel\u001b[49m\u001b[43m \u001b[49m\u001b[38;5;241;43m=\u001b[39;49m\u001b[43m \u001b[49m\u001b[38;5;124;43m'\u001b[39;49m\u001b[38;5;124;43mBPR\u001b[39;49m\u001b[38;5;124;43m'\u001b[39;49m\u001b[43m)\u001b[49m\n\u001b[0;32m      8\u001b[0m ax[\u001b[38;5;241m0\u001b[39m]\u001b[38;5;241m.\u001b[39mplot(epochs, non_bpr_model_loss_list, label \u001b[38;5;241m=\u001b[39m \u001b[38;5;124m'\u001b[39m\u001b[38;5;124mNon-BPR\u001b[39m\u001b[38;5;124m'\u001b[39m)\n\u001b[0;32m      9\u001b[0m ax[\u001b[38;5;241m0\u001b[39m]\u001b[38;5;241m.\u001b[39mset_title(\u001b[38;5;124m'\u001b[39m\u001b[38;5;124mLoss\u001b[39m\u001b[38;5;124m'\u001b[39m)\n",
            "File \u001b[1;32mc:\\Users\\dhfgo\\anaconda3\\envs\\deeplearning\\Lib\\site-packages\\matplotlib\\axes\\_axes.py:1721\u001b[0m, in \u001b[0;36mAxes.plot\u001b[1;34m(self, scalex, scaley, data, *args, **kwargs)\u001b[0m\n\u001b[0;32m   1478\u001b[0m \u001b[38;5;250m\u001b[39m\u001b[38;5;124;03m\"\"\"\u001b[39;00m\n\u001b[0;32m   1479\u001b[0m \u001b[38;5;124;03mPlot y versus x as lines and/or markers.\u001b[39;00m\n\u001b[0;32m   1480\u001b[0m \n\u001b[1;32m   (...)\u001b[0m\n\u001b[0;32m   1718\u001b[0m \u001b[38;5;124;03m(``'green'``) or hex strings (``'#008000'``).\u001b[39;00m\n\u001b[0;32m   1719\u001b[0m \u001b[38;5;124;03m\"\"\"\u001b[39;00m\n\u001b[0;32m   1720\u001b[0m kwargs \u001b[38;5;241m=\u001b[39m cbook\u001b[38;5;241m.\u001b[39mnormalize_kwargs(kwargs, mlines\u001b[38;5;241m.\u001b[39mLine2D)\n\u001b[1;32m-> 1721\u001b[0m lines \u001b[38;5;241m=\u001b[39m [\u001b[38;5;241m*\u001b[39m\u001b[38;5;28mself\u001b[39m\u001b[38;5;241m.\u001b[39m_get_lines(\u001b[38;5;28mself\u001b[39m, \u001b[38;5;241m*\u001b[39margs, data\u001b[38;5;241m=\u001b[39mdata, \u001b[38;5;241m*\u001b[39m\u001b[38;5;241m*\u001b[39mkwargs)]\n\u001b[0;32m   1722\u001b[0m \u001b[38;5;28;01mfor\u001b[39;00m line \u001b[38;5;129;01min\u001b[39;00m lines:\n\u001b[0;32m   1723\u001b[0m     \u001b[38;5;28mself\u001b[39m\u001b[38;5;241m.\u001b[39madd_line(line)\n",
            "File \u001b[1;32mc:\\Users\\dhfgo\\anaconda3\\envs\\deeplearning\\Lib\\site-packages\\matplotlib\\axes\\_base.py:303\u001b[0m, in \u001b[0;36m_process_plot_var_args.__call__\u001b[1;34m(self, axes, data, *args, **kwargs)\u001b[0m\n\u001b[0;32m    301\u001b[0m     this \u001b[38;5;241m+\u001b[39m\u001b[38;5;241m=\u001b[39m args[\u001b[38;5;241m0\u001b[39m],\n\u001b[0;32m    302\u001b[0m     args \u001b[38;5;241m=\u001b[39m args[\u001b[38;5;241m1\u001b[39m:]\n\u001b[1;32m--> 303\u001b[0m \u001b[38;5;28;01myield from\u001b[39;00m \u001b[38;5;28;43mself\u001b[39;49m\u001b[38;5;241;43m.\u001b[39;49m\u001b[43m_plot_args\u001b[49m\u001b[43m(\u001b[49m\n\u001b[0;32m    304\u001b[0m \u001b[43m    \u001b[49m\u001b[43maxes\u001b[49m\u001b[43m,\u001b[49m\u001b[43m \u001b[49m\u001b[43mthis\u001b[49m\u001b[43m,\u001b[49m\u001b[43m \u001b[49m\u001b[43mkwargs\u001b[49m\u001b[43m,\u001b[49m\u001b[43m \u001b[49m\u001b[43mambiguous_fmt_datakey\u001b[49m\u001b[38;5;241;43m=\u001b[39;49m\u001b[43mambiguous_fmt_datakey\u001b[49m\u001b[43m)\u001b[49m\n",
            "File \u001b[1;32mc:\\Users\\dhfgo\\anaconda3\\envs\\deeplearning\\Lib\\site-packages\\matplotlib\\axes\\_base.py:499\u001b[0m, in \u001b[0;36m_process_plot_var_args._plot_args\u001b[1;34m(self, axes, tup, kwargs, return_kwargs, ambiguous_fmt_datakey)\u001b[0m\n\u001b[0;32m    496\u001b[0m     axes\u001b[38;5;241m.\u001b[39myaxis\u001b[38;5;241m.\u001b[39mupdate_units(y)\n\u001b[0;32m    498\u001b[0m \u001b[38;5;28;01mif\u001b[39;00m x\u001b[38;5;241m.\u001b[39mshape[\u001b[38;5;241m0\u001b[39m] \u001b[38;5;241m!=\u001b[39m y\u001b[38;5;241m.\u001b[39mshape[\u001b[38;5;241m0\u001b[39m]:\n\u001b[1;32m--> 499\u001b[0m     \u001b[38;5;28;01mraise\u001b[39;00m \u001b[38;5;167;01mValueError\u001b[39;00m(\u001b[38;5;124mf\u001b[39m\u001b[38;5;124m\"\u001b[39m\u001b[38;5;124mx and y must have same first dimension, but \u001b[39m\u001b[38;5;124m\"\u001b[39m\n\u001b[0;32m    500\u001b[0m                      \u001b[38;5;124mf\u001b[39m\u001b[38;5;124m\"\u001b[39m\u001b[38;5;124mhave shapes \u001b[39m\u001b[38;5;132;01m{\u001b[39;00mx\u001b[38;5;241m.\u001b[39mshape\u001b[38;5;132;01m}\u001b[39;00m\u001b[38;5;124m and \u001b[39m\u001b[38;5;132;01m{\u001b[39;00my\u001b[38;5;241m.\u001b[39mshape\u001b[38;5;132;01m}\u001b[39;00m\u001b[38;5;124m\"\u001b[39m)\n\u001b[0;32m    501\u001b[0m \u001b[38;5;28;01mif\u001b[39;00m x\u001b[38;5;241m.\u001b[39mndim \u001b[38;5;241m>\u001b[39m \u001b[38;5;241m2\u001b[39m \u001b[38;5;129;01mor\u001b[39;00m y\u001b[38;5;241m.\u001b[39mndim \u001b[38;5;241m>\u001b[39m \u001b[38;5;241m2\u001b[39m:\n\u001b[0;32m    502\u001b[0m     \u001b[38;5;28;01mraise\u001b[39;00m \u001b[38;5;167;01mValueError\u001b[39;00m(\u001b[38;5;124mf\u001b[39m\u001b[38;5;124m\"\u001b[39m\u001b[38;5;124mx and y can be no greater than 2D, but have \u001b[39m\u001b[38;5;124m\"\u001b[39m\n\u001b[0;32m    503\u001b[0m                      \u001b[38;5;124mf\u001b[39m\u001b[38;5;124m\"\u001b[39m\u001b[38;5;124mshapes \u001b[39m\u001b[38;5;132;01m{\u001b[39;00mx\u001b[38;5;241m.\u001b[39mshape\u001b[38;5;132;01m}\u001b[39;00m\u001b[38;5;124m and \u001b[39m\u001b[38;5;132;01m{\u001b[39;00my\u001b[38;5;241m.\u001b[39mshape\u001b[38;5;132;01m}\u001b[39;00m\u001b[38;5;124m\"\u001b[39m)\n",
            "\u001b[1;31mValueError\u001b[0m: x and y must have same first dimension, but have shapes (50,) and (0,)"
          ]
        },
        {
          "data": {
            "image/png": "[encoded data removed]",
            "text/plain": [
              "<Figure size 1500x500 with 3 Axes>"
            ]
          },
          "metadata": {},
          "output_type": "display_data"
        }
      ],
      "source": [
        "import matplotlib.pyplot as plt\n",
        "\n",
        "fig, ax = plt.subplots(1, 3, figsize = (15, 5))\n",
        "ax = ax.flatten()\n",
        "epochs = [i for i in range(1, config.epochs + 1)]\n",
        "\n",
        "ax[0].plot(epochs, bpr_model_loss_list, label = 'BPR')\n",
        "ax[0].plot(epochs, non_bpr_model_loss_list, label = 'Non-BPR')\n",
        "ax[0].set_title('Loss')\n",
        "ax[0].legend()\n",
        "\n",
        "ax[1].plot(epochs, bpr_model_hr_list, label = 'BPR')\n",
        "ax[1].plot(epochs, non_bpr_model_hr_list, label = 'Non-BPR')\n",
        "ax[1].set_title('HR')\n",
        "ax[1].legend()\n",
        "\n",
        "ax[2].plot(epochs, bpr_model_ndcg_list, label = 'BPR')\n",
        "ax[2].plot(epochs, non_bpr_model_ndcg_list, label = 'Non-BPR')\n",
        "ax[2].set_title('NDCG')\n",
        "ax[2].legend()\n",
        "plt.show()"
      ]
    },
    {
      "cell_type": "markdown",
      "metadata": {
        "id": "qqvhM8p6evEM"
      },
      "source": [
        "BPR Loss를 사용하는 것이 성능, 수렴 측면에서 더 좋다는 것을 알 수 있음"
      ]
    }
  ],
  "metadata": {
    "accelerator": "GPU",
    "colab": {
      "authorship_tag": "ABX9TyNmpkaaKT2rUQgUVXpXXScc",
      "collapsed_sections": [],
      "include_colab_link": true,
      "mount_file_id": "18FkUoKtn4VKlZsWhkoSrENPSNDbjMG9z",
      "name": "BPR.ipynb",
      "provenance": []
    },
    "kernelspec": {
      "display_name": "Python 3",
      "name": "python3"
    },
    "language_info": {
      "codemirror_mode": {
        "name": "ipython",
        "version": 3
      },
      "file_extension": ".py",
      "mimetype": "text/x-python",
      "name": "python",
      "nbconvert_exporter": "python",
      "pygments_lexer": "ipython3",
      "version": "3.11.8"
    }
  },
  "nbformat": 4,
  "nbformat_minor": 0
}
